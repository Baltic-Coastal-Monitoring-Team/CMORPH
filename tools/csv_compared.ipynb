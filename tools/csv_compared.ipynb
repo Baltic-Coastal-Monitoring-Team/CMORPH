{
 "cells": [
  {
   "cell_type": "code",
   "execution_count": 1,
   "id": "aa0cca29",
   "metadata": {},
   "outputs": [],
   "source": [
    "import os\n",
    "import glob\n",
    "import shutil\n",
    "import pandas as pd\n",
    "import geopandas as gpd"
   ]
  },
  {
   "cell_type": "code",
   "execution_count": null,
   "id": "822ebd02",
   "metadata": {},
   "outputs": [],
   "source": [
    "print(os.getcwd())"
   ]
  },
  {
   "cell_type": "code",
   "execution_count": 3,
   "id": "20c0c1eb",
   "metadata": {},
   "outputs": [],
   "source": [
    "def rel(path_str):\n",
    "    return str((Path().resolve().parent / path_str).resolve())"
   ]
  },
  {
   "cell_type": "code",
   "execution_count": 11,
   "id": "19b776d1",
   "metadata": {},
   "outputs": [],
   "source": [
    "# input sample paths\n",
    "# the order is importent\n",
    "BASE_PATHS = [\n",
    "    '../demo/2022-02',\n",
    "    '../demo/2024-05'\n",
    "]\n",
    "\n",
    "# input paths inside of an each sample path\n",
    "INPUT_RESULT_FOLDER = 'output/analyser'\n",
    "INPUT_DB = 'db/database.gpkg'\n",
    "\n",
    "# output folder - will include comparisons\n",
    "OUTPUT_CSV_FOLDER = '../demo/CSV/compare_data'\n",
    "os.makedirs(OUTPUT_CSV_FOLDER, exist_ok=True)"
   ]
  },
  {
   "cell_type": "code",
   "execution_count": 12,
   "id": "8768d157",
   "metadata": {},
   "outputs": [],
   "source": [
    "#def clean_folder(path):\n",
    "#    if os.path.exists(path):\n",
    "#        shutil.rmtree(path)\n",
    "#    os.mkdir(path)     \n",
    "#\n",
    "paths = BASE_PATHS\n",
    "names = list(map(lambda p: os.path.basename(p), paths))\n",
    "#\n",
    "#clean_folder(OUTPUT_CSV_FOLDER)"
   ]
  },
  {
   "cell_type": "code",
   "execution_count": 13,
   "id": "29cca942",
   "metadata": {},
   "outputs": [],
   "source": [
    "# distance between points \n",
    "db_file = os.path.join(paths[0], INPUT_DB)\n",
    "profiles = gpd.read_file(db_file, layer='profiles')\n",
    "points_distance = round(profiles.iloc[0].geometry.distance(profiles.iloc[1].geometry), 3)"
   ]
  },
  {
   "cell_type": "code",
   "execution_count": 14,
   "id": "ce01a6ea",
   "metadata": {},
   "outputs": [],
   "source": [
    "def get_results_diff(first, second):\n",
    "    merged = first.merge(second, left_on='profile_id', right_on='profile_id', how='left')\n",
    "    diff = pd.DataFrame({\n",
    "        'profile_id': merged.profile_id,\n",
    "        'zero_position': (merged.last_zero_id_y - merged.last_zero_id_x) * points_distance,\n",
    "        'zero_elevation': merged.last_zero_elevation_y - merged.last_zero_elevation_x,\n",
    "\n",
    "        'bottom_position': (merged.bottom_id_y - merged.bottom_id_x) * points_distance,\n",
    "        'bottom_elevation': merged.bottom_elevation_y - merged.bottom_elevation_x,\n",
    "\n",
    "        'top_position': (merged.top_id_y - merged.top_id_x) * points_distance,\n",
    "        'top_elevation': merged.top_elevation_y - merged.top_elevation_x,\n",
    "\n",
    "        'beach_width': merged.beach_width_y - merged.beach_width_x,\n",
    "        'beach_slope': merged.beach_slope_y - merged.beach_slope_x,\n",
    "        'beach_volume': merged.beach_volume_y - merged.beach_volume_x,\n",
    "\n",
    "        'dune_width': merged.dune_width_y - merged.dune_width_x,\n",
    "        'dune_slope': merged.dune_slope_y - merged.dune_slope_x,\n",
    "        'dune_volume': merged.dune_volume_y - merged.dune_volume_x  \n",
    "    })\n",
    "    return diff"
   ]
  },
  {
   "cell_type": "code",
   "execution_count": 15,
   "id": "cf13ac6a",
   "metadata": {},
   "outputs": [],
   "source": [
    "# analyser results\n",
    "samples = []\n",
    "\n",
    "for path in paths:\n",
    "    results_file = glob.glob(os.path.join(path, INPUT_RESULT_FOLDER, '*.csv'))\n",
    "    if len(results_file) == 0:\n",
    "        break\n",
    "    res = pd.read_csv(results_file[0], encoding='utf-8', sep=',', skipinitialspace=True)\n",
    "    samples.append(res)    "
   ]
  },
  {
   "cell_type": "code",
   "execution_count": 16,
   "id": "e0402acf",
   "metadata": {},
   "outputs": [],
   "source": [
    "diffs = []\n",
    "\n",
    "for idx, sample in enumerate(samples[:-1]):\n",
    "    diffs.append(get_results_diff(samples[idx], samples[idx+1]))"
   ]
  },
  {
   "cell_type": "code",
   "execution_count": 17,
   "id": "8c50f932",
   "metadata": {},
   "outputs": [],
   "source": [
    "fields = [\n",
    "    'zero_position',\n",
    "    'zero_elevation',\n",
    "    'bottom_position',\n",
    "    'bottom_elevation',\n",
    "    'top_position',\n",
    "    'top_elevation',\n",
    "    'beach_width',\n",
    "    'beach_slope',\n",
    "    'beach_volume',\n",
    "    'dune_width',\n",
    "    'dune_slope',\n",
    "    'dune_volume'\n",
    "]\n",
    "\n",
    "names = list(map(lambda p: os.path.basename(p), BASE_PATHS))\n",
    "name_combo = \"_\".join(names)\n",
    "\n",
    "for field in fields:\n",
    "    field_diffs = pd.DataFrame({\n",
    "        'profile_id': diffs[0].profile_id\n",
    "    })\n",
    "    for diff_idx, diff in enumerate(diffs):\n",
    "        field_diffs = field_diffs.merge(diff[['profile_id', field]], left_on='profile_id', right_on='profile_id', how='left')\n",
    "        field_diffs.rename(columns = {field: f'{names[diff_idx]}_{names[diff_idx+1]}'}, inplace = True)\n",
    "    \n",
    "    field_diffs.to_csv(\n",
    "        os.path.join(OUTPUT_CSV_FOLDER, f'{field}_diff_{name_combo}.csv'),\n",
    "        encoding='utf-8',\n",
    "        sep=','\n",
    "    )"
   ]
  },
  {
   "cell_type": "code",
   "execution_count": null,
   "id": "80ae067c",
   "metadata": {},
   "outputs": [],
   "source": []
  },
  {
   "cell_type": "code",
   "execution_count": null,
   "id": "61fa3ef5-ce8e-471d-9bd3-7f35aa023483",
   "metadata": {},
   "outputs": [],
   "source": []
  }
 ],
 "metadata": {
  "kernelspec": {
   "display_name": "Python (cmorph)",
   "language": "python",
   "name": "cmorph"
  },
  "language_info": {
   "codemirror_mode": {
    "name": "ipython",
    "version": 3
   },
   "file_extension": ".py",
   "mimetype": "text/x-python",
   "name": "python",
   "nbconvert_exporter": "python",
   "pygments_lexer": "ipython3",
   "version": "3.10.13"
  }
 },
 "nbformat": 4,
 "nbformat_minor": 5
}
