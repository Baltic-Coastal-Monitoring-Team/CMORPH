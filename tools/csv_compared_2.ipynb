{
 "cells": [
  {
   "cell_type": "code",
   "execution_count": 1,
   "id": "a019c15a",
   "metadata": {},
   "outputs": [],
   "source": [
    "import os\n",
    "import glob\n",
    "import shutil\n",
    "import pandas as pd\n",
    "import geopandas as gpd"
   ]
  },
  {
   "cell_type": "code",
   "execution_count": null,
   "id": "a478509a",
   "metadata": {},
   "outputs": [],
   "source": [
    "print(os.getcwd())"
   ]
  },
  {
   "cell_type": "code",
   "execution_count": 3,
   "id": "e1a616ee",
   "metadata": {},
   "outputs": [],
   "source": [
    "def rel(path_str):\n",
    "    return str((Path().resolve().parent / path_str).resolve())"
   ]
  },
  {
   "cell_type": "code",
   "execution_count": 9,
   "id": "b7157a98",
   "metadata": {},
   "outputs": [],
   "source": [
    "# input sample paths\n",
    "# the order is importent\n",
    "# maximal 2 paths\n",
    "BASE_PATHS = [\n",
    "    '../demo/2022-02',\n",
    "    '../demo/2024-05'\n",
    "]\n",
    "\n",
    "# input paths inside of an each sample path\n",
    "INPUT_RESULT_FOLDER = 'output/analyser'\n",
    "INPUT_DB = 'db/database.gpkg'\n",
    "\n",
    "# output folder - will include comparisons\n",
    "OUTPUT_CSV_FOLDER = '../demo/CSV/compare_2_files'\n",
    "os.makedirs(OUTPUT_CSV_FOLDER, exist_ok=True)"
   ]
  },
  {
   "cell_type": "code",
   "execution_count": 10,
   "id": "01fd474d",
   "metadata": {},
   "outputs": [],
   "source": [
    "#def clean_folder(path):\n",
    "#    if os.path.exists(path):\n",
    "#        shutil.rmtree(path)\n",
    "#    os.mkdir(path)     \n",
    "#\n",
    "paths = BASE_PATHS\n",
    "names = list(map(lambda p: os.path.basename(p), paths))\n",
    "#\n",
    "#clean_folder(OUTPUT_CSV_FOLDER)"
   ]
  },
  {
   "cell_type": "code",
   "execution_count": 11,
   "id": "a1df6032",
   "metadata": {},
   "outputs": [],
   "source": [
    "def get_results_diff(first, second):\n",
    "    merged = first.merge(second, left_on='profile_id', right_on='profile_id', how='left')\n",
    "    diff = pd.DataFrame({\n",
    "        'profile_id': merged.profile_id,\n",
    "        'zero_position': (merged.last_zero_id_y - merged.last_zero_id_x) * points_distance,\n",
    "        'zero_elevation': merged.last_zero_elevation_y - merged.last_zero_elevation_x,\n",
    "\n",
    "        'bottom_position': (merged.bottom_id_y - merged.bottom_id_x) * points_distance,\n",
    "        'bottom_elevation': merged.bottom_elevation_y - merged.bottom_elevation_x,\n",
    "\n",
    "        'top_position': (merged.top_id_y - merged.top_id_x) * points_distance,\n",
    "        'top_elevation': merged.top_elevation_y - merged.top_elevation_x,\n",
    "\n",
    "        'beach_width': merged.beach_width_y - merged.beach_width_x,\n",
    "        'beach_slope': merged.beach_slope_y - merged.beach_slope_x,\n",
    "        'beach_volume': merged.beach_volume_y - merged.beach_volume_x,\n",
    "\n",
    "        'dune_width': merged.dune_width_y - merged.dune_width_x,\n",
    "        'dune_slope': merged.dune_slope_y - merged.dune_slope_x,\n",
    "        'dune_volume': merged.dune_volume_y - merged.dune_volume_x  \n",
    "    })\n",
    "    return diff"
   ]
  },
  {
   "cell_type": "code",
   "execution_count": 12,
   "id": "abbd2622",
   "metadata": {},
   "outputs": [],
   "source": [
    "# analyser results\n",
    "first_file_name = glob.glob(os.path.join(BASE_PATHS[0], INPUT_RESULT_FOLDER, '*.csv'))[0]\n",
    "second_file_name = glob.glob(os.path.join(BASE_PATHS[1], INPUT_RESULT_FOLDER, '*.csv'))[0]\n",
    "\n",
    "first = pd.read_csv(first_file_name, encoding='utf-8', sep=',', skipinitialspace=True)\n",
    "second = pd.read_csv(second_file_name, encoding='utf-8', sep=',', skipinitialspace=True)\n",
    "\n",
    "# distance between points \n",
    "db_file = os.path.join(BASE_PATHS[0], INPUT_DB)\n",
    "profiles = gpd.read_file(db_file, layer='profiles')\n",
    "points_distance = round(profiles.iloc[0].geometry.distance(profiles.iloc[1].geometry), 3)"
   ]
  },
  {
   "cell_type": "code",
   "execution_count": 13,
   "id": "d65cb5b5",
   "metadata": {},
   "outputs": [],
   "source": [
    "names = list(map(lambda p: os.path.basename(p), BASE_PATHS))\n",
    "\n",
    "diff = get_results_diff(first, second)\n",
    "diff.to_csv(os.path.join(OUTPUT_CSV_FOLDER, f'{names[0]}_{names[1]}_diff.csv'), encoding='utf-8', sep=',')"
   ]
  },
  {
   "cell_type": "code",
   "execution_count": null,
   "id": "a9fc426d",
   "metadata": {},
   "outputs": [],
   "source": []
  }
 ],
 "metadata": {
  "kernelspec": {
   "display_name": "Python (cmorph)",
   "language": "python",
   "name": "cmorph"
  },
  "language_info": {
   "codemirror_mode": {
    "name": "ipython",
    "version": 3
   },
   "file_extension": ".py",
   "mimetype": "text/x-python",
   "name": "python",
   "nbconvert_exporter": "python",
   "pygments_lexer": "ipython3",
   "version": "3.10.13"
  }
 },
 "nbformat": 4,
 "nbformat_minor": 5
}
